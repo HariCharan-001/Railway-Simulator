{
 "cells": [
  {
   "cell_type": "code",
   "execution_count": 52,
   "metadata": {},
   "outputs": [
    {
     "name": "stdout",
     "output_type": "stream",
     "text": [
      "Arakkonam JN\n",
      "['PLMG', 'CJ', 'TKO']\n"
     ]
    }
   ],
   "source": [
    "import os\n",
    "import sys\n",
    "import pandas as pd\n",
    "from bs4 import BeautifulSoup\n",
    "\n",
    "folder = os.listdir('routes csv')\n",
    "folder.sort()\n",
    "\n",
    "codeToName = {}\n",
    "neighbours = {}\n",
    "\n",
    "for s in folder:\n",
    "    s = 'routes csv/'+s\n",
    "    df = pd.read_csv(s)\n",
    "    n = len(df)\n",
    "    for i in range(n):\n",
    "        codeToName[df.iloc[i,1]] = df.iloc[i,2]\n",
    "        if(i!=n-1):\n",
    "            s1 = df.iloc[i,1]\n",
    "            s2 = df.iloc[i+1,1]\n",
    "        if s1 in neighbours.keys():\n",
    "            if s2 in neighbours[s1]:\n",
    "                continue\n",
    "            else:\n",
    "                neighbours[s1].append(s2)\n",
    "        else:\n",
    "            neighbours[s1]=[s2]\n",
    "        if s2 in neighbours.keys():\n",
    "            if s1 in neighbours[s2]:\n",
    "                continue\n",
    "            else:\n",
    "                neighbours[s2].append(s1)\n",
    "        else:\n",
    "            neighbours[s2]=[s1]\n",
    "\n",
    "print(codeToName['AJJ'])\n",
    "print(neighbours['AJJ'])\n"
   ]
  }
 ],
 "metadata": {
  "kernelspec": {
   "display_name": "Python 3.9.10 ('venv': venv)",
   "language": "python",
   "name": "python3"
  },
  "language_info": {
   "codemirror_mode": {
    "name": "ipython",
    "version": 3
   },
   "file_extension": ".py",
   "mimetype": "text/x-python",
   "name": "python",
   "nbconvert_exporter": "python",
   "pygments_lexer": "ipython3",
   "version": "3.9.10"
  },
  "orig_nbformat": 4,
  "vscode": {
   "interpreter": {
    "hash": "2d1c29994b67c6c5e2b9e11fed25e86528feb63b5e9777bf4b6d21cb0186365b"
   }
  }
 },
 "nbformat": 4,
 "nbformat_minor": 2
}
