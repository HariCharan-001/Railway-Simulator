{
 "cells": [
  {
   "cell_type": "code",
   "execution_count": 1,
   "metadata": {},
   "outputs": [
    {
     "name": "stdout",
     "output_type": "stream",
     "text": [
      "23\n",
      "hi\n"
     ]
    },
    {
     "ename": "KeyError",
     "evalue": "'J'",
     "output_type": "error",
     "traceback": [
      "\u001b[0;31m---------------------------------------------------------------------------\u001b[0m",
      "\u001b[0;31mKeyError\u001b[0m                                  Traceback (most recent call last)",
      "Cell \u001b[0;32mIn[1], line 38\u001b[0m\n\u001b[1;32m     35\u001b[0m             neighbours[s2]\u001b[39m=\u001b[39m[s1]\n\u001b[1;32m     37\u001b[0m \u001b[39mprint\u001b[39m(\u001b[39m\"\u001b[39m\u001b[39mhi\u001b[39m\u001b[39m\"\u001b[39m)\n\u001b[0;32m---> 38\u001b[0m \u001b[39mprint\u001b[39m(codeToName[\u001b[39m'\u001b[39;49m\u001b[39mJ\u001b[39;49m\u001b[39m'\u001b[39;49m])\n\u001b[1;32m     39\u001b[0m \u001b[39mprint\u001b[39m(neighbours[\u001b[39m'\u001b[39m\u001b[39mAJJ\u001b[39m\u001b[39m'\u001b[39m])\n",
      "\u001b[0;31mKeyError\u001b[0m: 'J'"
     ]
    }
   ],
   "source": [
    "import os\n",
    "import sys\n",
    "import pandas as pd\n",
    "from bs4 import BeautifulSoup\n",
    "\n",
    "folder = os.listdir('routes csv')\n",
    "print(len(folder))\n",
    "folder.sort()\n",
    "\n",
    "codeToName = {}\n",
    "neighbours = {}\n",
    "\n",
    "for s in folder:\n",
    "    s = 'routes csv/'+s\n",
    "    df = pd.read_csv(s)\n",
    "    n = len(df)\n",
    "    for i in range(n):\n",
    "        codeToName[df.iloc[i,1]] = df.iloc[i,2]\n",
    "        if(i!=n-1):\n",
    "            s1 = df.iloc[i,1]\n",
    "            s2 = df.iloc[i+1,1]\n",
    "        if s1 in neighbours.keys():\n",
    "            if s2 in neighbours[s1]:\n",
    "                continue\n",
    "            else:\n",
    "                neighbours[s1].append(s2)\n",
    "        else:\n",
    "            neighbours[s1]=[s2]\n",
    "        if s2 in neighbours.keys():\n",
    "            if s1 in neighbours[s2]:\n",
    "                continue\n",
    "            else:\n",
    "                neighbours[s2].append(s1)\n",
    "        else:\n",
    "            neighbours[s2]=[s1]\n",
    "\n",
    "print(\"hi\")\n",
    "print(codeToName['J'])\n",
    "print(neighbours['AJJ'])\n"
   ]
  },
  {
   "cell_type": "markdown",
   "metadata": {},
   "source": [
    "EKM - ['NG', 'VGA'] in prev\n",
    "EKM - ['NG', 'VGA', 'TRT', 'PUT'] in new"
   ]
  }
 ],
 "metadata": {
  "kernelspec": {
   "display_name": "Python 3",
   "language": "python",
   "name": "python3"
  },
  "language_info": {
   "codemirror_mode": {
    "name": "ipython",
    "version": 3
   },
   "file_extension": ".py",
   "mimetype": "text/x-python",
   "name": "python",
   "nbconvert_exporter": "python",
   "pygments_lexer": "ipython3",
   "version": "3.11.2"
  },
  "orig_nbformat": 4,
  "vscode": {
   "interpreter": {
    "hash": "b0fa6594d8f4cbf19f97940f81e996739fb7646882a419484c72d19e05852a7e"
   }
  }
 },
 "nbformat": 4,
 "nbformat_minor": 2
}
